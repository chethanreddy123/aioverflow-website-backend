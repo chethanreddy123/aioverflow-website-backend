{
 "cells": [
  {
   "cell_type": "code",
   "execution_count": 1,
   "id": "50569015",
   "metadata": {},
   "outputs": [],
   "source": [
    "import smtplib\n",
    "from email.mime.text import MIMEText\n",
    "\n",
    "def send_email(sender_email, sender_password, recipient_email, subject, message):\n",
    "    try:\n",
    "        # Set up the MIMEText object\n",
    "        msg = MIMEText(message)\n",
    "        msg['Subject'] = subject\n",
    "        msg['From'] = sender_email\n",
    "        msg['To'] = recipient_email\n",
    "\n",
    "        # Connect to the SMTP server\n",
    "        server = smtplib.SMTP('smtp.gmail.com', 587)\n",
    "        server.starttls()\n",
    "\n",
    "        # Log in to your email account\n",
    "        server.login(sender_email, sender_password)\n",
    "\n",
    "        # Send the email\n",
    "        server.sendmail(sender_email, recipient_email, msg.as_string())\n",
    "\n",
    "        # Close the connection\n",
    "        server.quit()\n",
    "\n",
    "        print(\"Email sent successfully!\")\n",
    "\n",
    "    except Exception as e:\n",
    "        print(f\"Failed to send email. Error: {e}\")\n"
   ]
  },
  {
   "cell_type": "code",
   "execution_count": 2,
   "id": "c5940924",
   "metadata": {},
   "outputs": [
    {
     "name": "stdout",
     "output_type": "stream",
     "text": [
      "Email sent successfully!\n"
     ]
    }
   ],
   "source": [
    "# Example usage\n",
    "send_email('aioverflow.ml@gmail.com', 'iyfngcdhgfcbkufv', \n",
    "           'achethanreddy1921@gmail.com', 'Test Subject', 'This is a test email.')"
   ]
  },
  {
   "cell_type": "code",
   "execution_count": null,
   "id": "cc10ba0e",
   "metadata": {},
   "outputs": [],
   "source": []
  }
 ],
 "metadata": {
  "kernelspec": {
   "display_name": "Python 3.10 (tensorflow)",
   "language": "python",
   "name": "tensorflow"
  },
  "language_info": {
   "codemirror_mode": {
    "name": "ipython",
    "version": 3
   },
   "file_extension": ".py",
   "mimetype": "text/x-python",
   "name": "python",
   "nbconvert_exporter": "python",
   "pygments_lexer": "ipython3",
   "version": "3.10.11"
  }
 },
 "nbformat": 4,
 "nbformat_minor": 5
}
